{
  "nbformat": 4,
  "nbformat_minor": 0,
  "metadata": {
    "colab": {
      "provenance": [],
      "authorship_tag": "ABX9TyPX54iBhYtto7lvWZw90O/b",
      "include_colab_link": true
    },
    "kernelspec": {
      "name": "python3",
      "display_name": "Python 3"
    },
    "language_info": {
      "name": "python"
    }
  },
  "cells": [
    {
      "cell_type": "markdown",
      "metadata": {
        "id": "view-in-github",
        "colab_type": "text"
      },
      "source": [
        "<a href=\"https://colab.research.google.com/github/Dan-Blanchette/Machine-Vision/blob/danDev/Image_Gradients.ipynb\" target=\"_parent\"><img src=\"https://colab.research.google.com/assets/colab-badge.svg\" alt=\"Open In Colab\"/></a>"
      ]
    },
    {
      "cell_type": "markdown",
      "source": [
        "# Image Gradiants\n",
        "\n",
        "## Blurring and Smoothing Images (Weds Lecture)\n",
        "\n",
        "## Topography\n",
        " - Graphic representation of the surface of an image\n",
        "\n",
        " ## Image Gradient\n",
        " A derivative(rate of change) at a given pixel in the image. Measures the change in intensity in the x and y directions at each point in the image.\n",
        "\n",
        "m = sqrt(g^2x + g^2y)\n",
        "\n",
        "theta = arctan g^2x/g^2y\n",
        "\n",
        "50  200 200\n",
        "50  200 200\n",
        "200 50  50\n",
        "\n",
        "dx = 50 - 200 = -150\n",
        "dy = 200 - 50 = 150\n",
        "\n",
        "## Sobel Kernel (x Gradient = vertical lines |||)\n",
        "approximate derivative of image\n",
        " - For dimension 3 Matrices, Sobel Kernel may produce innacuracies\n",
        " - Use Scharr Kernel address this inaccuracy\n",
        "\n",
        "## Scharr Kerenel(y Gradient = horizontal lines\n",
        "\n",
        " ## Laplacian Kernel (Gradients in both directions)\n",
        "- Approximates second order derivative of the image\n",
        "  - Second order derivative: rate of change of the rate of change\n",
        "\n",
        "## Gradients Can be choppy if there is too much noise in an image\n",
        " - solutions use smoothing/blurring to help\n",
        "\n",
        "# Isophote\n",
        "  - A curve on a surface connecting points of equal brightness.\n",
        "  - brightness = elevation\n",
        "  - used for optical evaluation\n"
      ],
      "metadata": {
        "id": "ji94vy-sLIL1"
      }
    },
    {
      "cell_type": "code",
      "source": [
        "# Gradient Code Example\n",
        "import cv2 as cv\n",
        "import numpy as np\n",
        "\n",
        "# provide path to source image\n",
        "img = cv.imread('sample_image/boat.jpg')\n",
        "\n",
        "gray = cv.cvtColor(img, cv.COLOR_BGR2GRAY)\n",
        "\n",
        "gray = cv.GaussianBlur(gray, (5,5), 0)\n",
        "# ddepth = -1, keep original data scale\n",
        "# dx = 1 means order of derivative 1st, 2nd, 3rd degree etc.\n",
        "\n",
        "# Sobel 1st order derivatives\n",
        "output_image = cv.Sobel(gray, ddepth=-1, dx=1, dy=0, ksize=5)\n",
        "output_image = cv.Sobel(gray, ddepth=-1, dx=0, dy=1, ksize=5)\n",
        "output_image = cv.Sobel(gray, ddepth=-1, dx=1, dy=1, ksize=5)\n",
        "# Sobel Second order derviatives\n",
        "output_image = cv.Sobel(gray, ddepth=-1, dx=2, dy=0, ksize=5)\n",
        "output_image = cv.Sobel(gray, ddepth=-1, dx=0, dy=2, ksize=5)\n",
        "output_image = cv.Sobel(gray, ddepth=-1, dx=2, dy=2, ksize=5)\n",
        "# Scharr first derivative\n",
        "output_image = cv.Scharr(gray, ddepth=-1, dx=0, dy=1)\n",
        "output_image = cv.Scharr(gray, ddepth=-1, dx=1, dy=0)\n",
        "# Error condtion cannot have dx & dy = 1\n",
        "# output_image = cv.Scharr(gray, ddepth=-1, dx=1, dy=1)\n",
        "\n",
        "# Laplacian\n",
        "# instead of 8 bit to 64 floating point\n",
        "output_img = cv.Laplacian(gray, cv.CV_64F)\n",
        "\n",
        "\n",
        "key = ord('r')\n",
        "\n",
        "while key != ord('s'):\n",
        "  cv.imshow('original gray', gray)\n",
        "  cv.imshow('output', output_img)\n",
        "  key = cv.waitKey()\n",
        "\n",
        "cv.destroyAllWindows()\n",
        "\n"
      ],
      "metadata": {
        "id": "-NVJYFJYLIYc"
      },
      "execution_count": null,
      "outputs": []
    }
  ]
}