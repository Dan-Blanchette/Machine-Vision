{
 "cells": [
  {
   "cell_type": "markdown",
   "metadata": {},
   "source": [
    "# Review\n",
    "## Motion Detection\n",
    "- motion size estimation\n",
    "- motion localization\n",
    "- motion reporting/visualization\n",
    "\n",
    "# Super Pixels\n",
    "## NOTE: BEST IF USING SCI-KIT NOT OPENCV\n",
    "- Goal: Segment an image into areas of similar color.\n",
    "- Segmented areas with similar colors are \"super pixels\"\n",
    "- Typically uses a clustering algorithm\n",
    "\n",
    "- Benefits\n",
    "1. Computational Efficiency\n",
    "2. Perceptual Significance\n",
    "3. Oversegmentation (preserving image information in the image)\n",
    "4. Graphing\n",
    "\n",
    "- Disadvantages\n",
    " - Broken and difficult to implement\n",
    "\n",
    "# Image Pyramids\n",
    "\n",
    "## Uses \n",
    " - creates a pyramid of images at different resolutions\n",
    " - Highest resolution at bottom\n",
    " - Construction methods\n",
    "   1. Laplassian\n",
    "   2. Gaussian\n",
    "## Pyramid down algorithm\n",
    "1. start with current resolution, M x N\n",
    "2. Construct next \"Octave\" (image with 1/4 current resolution)\n",
    "   2.1 allocate iamge with dimensions, m/2 x n/2\n",
    "   2.2 fill each pixel in Octave by sampling 5 piels from level below with Gaussian weights.\n",
    "   2.4 repeat from 2 until target resolution reached.\n",
    "\n"
   ]
  },
  {
   "cell_type": "code",
   "execution_count": null,
   "metadata": {},
   "outputs": [],
   "source": [
    "import cv2 as cv\n",
    "\n",
    "# pyrmaid down call\n",
    "output_img = cv.pyrDown(src, dstsize=size(),\n",
    "                        bordertype = cv. BORDER_DEFAULT)\n",
    "\n",
    "# Fourier Transforms\n",
    "cv.dft(src, flags=0, nonzeroRows=0)"
   ]
  },
  {
   "cell_type": "markdown",
   "metadata": {},
   "source": [
    "# Laplcaian pyramid\n",
    "- formed from gaussian pyramid\n",
    "- produces edge image\n",
    "- formed by taking difference between current level in gauss, and the expanded upper level of gauss\n",
    "- no openCV function\n",
    "\n",
    "\n",
    "# Fourier transforms\n",
    "- Image is composed of signals\n",
    "- Pixel values mp to frequencies\n",
    "- Applications\n",
    "  1. Filtering by frequency\n",
    "  2. edge detection\n",
    "  3. blurring/sharpening\n",
    "  4. rotation\n",
    "  5. etc."
   ]
  }
 ],
 "metadata": {
  "kernelspec": {
   "display_name": "mvenv",
   "language": "python",
   "name": "python3"
  },
  "language_info": {
   "name": "python",
   "version": "3.10.12"
  }
 },
 "nbformat": 4,
 "nbformat_minor": 2
}
