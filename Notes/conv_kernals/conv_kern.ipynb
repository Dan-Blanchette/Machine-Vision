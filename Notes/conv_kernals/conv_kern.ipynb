{
 "cells": [
  {
   "cell_type": "markdown",
   "metadata": {},
   "source": [
    "# Convolution and Kernals\n",
    "\n",
    "## Computer science adapts ths to various use cases\n",
    "\n",
    "- Change parameters/behavoir based on input data\n",
    "- filters\n",
    "\n",
    "\n",
    "## Convolution\n",
    "\" Convolution takes tow functions and \"slides\" one over the other, multiplying\n",
    "the function values at each point where they overlap, and addinng up the products to create a new function. The new function shows how the two functions interact with each other.\n",
    "\n",
    "\n",
    "The integral of the product of two functions after one is reflected about the y-axis\n",
    "\n",
    "\n",
    "- Pair-wise multipliation of the two matrices (could be reformatted to 1D arrays)\n",
    " - Kernel g from mathmatical location, sliding function across our data set \n",
    " - often has odd dimensions\n",
    "\n",
    "### Convolution is used in serveral ways in MV\n",
    "\n",
    "\n",
    "# Filters\n",
    "- Filters often weight pixel value contributions to the output\n",
    "- May emphasize values\n",
    "\n",
    "- Averaging\n",
    "- Blurring/Smoothing\n",
    "- Noise\n",
    "- Convolutional Neural Networks\n",
    "\n",
    "\n",
    "cv.filter2D(src,\n",
    "            ddepth,\n",
    "            kernel,\n",
    "            anchor=Point(-1,-1),\n",
    "            delta=0,\n",
    "            border_type)\n",
    "\n",
    "# Gaussian Kernel\n",
    "- Gaussian distribution =  Normal Distribution\n",
    "- Kernel approximates the Gaussian function\n",
    "- Useful for blurring, smoothing\n",
    "\n",
    "# Image Gradients\n",
    "- looking for lines\n",
    "- changes in pixel values"
   ]
  }
 ],
 "metadata": {
  "kernelspec": {
   "display_name": "Python 3",
   "language": "python",
   "name": "python3"
  },
  "language_info": {
   "name": "python",
   "version": "3.10.12"
  }
 },
 "nbformat": 4,
 "nbformat_minor": 2
}
