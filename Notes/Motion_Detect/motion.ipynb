{
 "cells": [
  {
   "cell_type": "markdown",
   "metadata": {},
   "source": [
    "### By Pixel Connectivity\n",
    "   - Connected Components (Algorithm)\n",
    "### By Pixel Value Distribution\n",
    "   - Clustering Algorithms (Kmean, Gaussian Mxiture)\n",
    "   - Grab Cut\n",
    "### By Change in Pixel Value Over Time\n",
    "   - background subtractors\n",
    "### By Area, Distance, Topology\n",
    "   - Contours and Masking\n",
    "   - Watershed\n",
    "   - Distance Transform\n",
    "### Fun Tools: Flood Fill"
   ]
  },
  {
   "cell_type": "markdown",
   "metadata": {},
   "source": [
    "# Motion Detection (Today's Topic)\n",
    "   1. Webcam Motion Detector[1]\n",
    "   2. OpenCV Motion Dectection[2]\n",
    "\n",
    "\n",
    "# Edge Detection\n",
    "- cv.findContours() ->cv.contourArea()\n",
    "\n",
    "# Local Motion\n",
    "\n",
    "# Detect where motion in scene is\n",
    "   - Output Coords of center\n",
    "   - Draw a Box\n",
    "   - etc.\n",
    "   - can be done using contours\n",
    "   - - cv.findContours() ->cv.contourArea() -> cv.rect()\n",
    "\n",
    "# Assignment Outline (Sunday October 6th Midnight)\n",
    "\n",
    "   1. Create a Motion Detector\n",
    "      - Video Feed\n",
    "      - Size of MOtion\n",
    "   2. Localizing MOtion\n",
    "      - Where is the motion in the scene\n",
    "      - Are there multiple points of motion\n",
    "   3. Visualizing and Reporting Motion\n",
    "      - How to visualize\n",
    "      - How to report\n",
    "   \n",
    "   4. Write up \n",
    "      1. (description of algorithm you used).\n",
    "      2. Assumptions/Events that would break your motion detector."
   ]
  }
 ],
 "metadata": {
  "language_info": {
   "name": "python"
  }
 },
 "nbformat": 4,
 "nbformat_minor": 2
}
