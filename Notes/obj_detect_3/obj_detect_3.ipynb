{
 "cells": [
  {
   "cell_type": "markdown",
   "metadata": {},
   "source": [
    "# Keypoints - trackable features, point, diameter, etc.\n",
    "# Descriptors - descriptions of the area around a keypoint.\n",
    "\n",
    "# Several algorithms\n",
    "1. SIFT\n",
    "2. BRISK\n",
    "3. SURF\n",
    "4. FAST\n",
    "5. BRIEF\n",
    "6. ORB\n",
    "\n",
    "# features\n",
    "   - corners\n",
    "   - lines\n",
    "   - textures\n",
    "   - data encoded from? -> keypoints & descriptors\n",
    "\n",
    "# Match features from two different images\n",
    "# Feature Matching Algorithms..\n",
    "1. Brute Force Matcher\n",
    "2. FLANN Matcher\n",
    "3. Homography\n",
    "4. Image Stitching\n",
    "\n",
    "\n",
    "# Brute Force Matching\n",
    "- Compares descriptor from set of descritpors found in image A and compares to all features from image B. Best match is returned.\n",
    "\n",
    "# Cross-Check\n",
    "- Calculates from set A to B, Then calculates the matches B to A. Requires matches to be the same in both directions.\n",
    "\n",
    "# FLANN\n",
    "- Fast Library for Approximate Nearest Neighbor\n",
    "- Calculates the distance ratio between the two most closely related matches to classify correct or incorrect pxiel values.\n",
    "\n",
    "# Image Homography\n",
    "- A homography is a transformation (3 x 3 matrix) that maps points in one image to the corresponding points in another image.\n",
    " -  - \n",
    "| X1 |    \n",
    "| Y1 |  \n",
    "| 1  |  \n",
    " -  -\n",
    "\n",
    "   -  - \n",
    "  | X2 |    \n",
    "H | Y2 |  \n",
    "  |  0 |  \n",
    "   -  -"
   ]
  },
  {
   "cell_type": "code",
   "execution_count": null,
   "metadata": {
    "vscode": {
     "languageId": "plaintext"
    }
   },
   "outputs": [],
   "source": [
    "bfmatcher = cv..BFMatcher(\n",
    "   # use L2 for SIFT/SURF, use HAMMING for ORB/BRISK/BRIEF\n",
    "   normType = cv.NORM_L2\n",
    "   # if true, run on both sets, make sure matches are same\n",
    ")\n",
    "\n",
    "matches = bfmatcher.knnMatch(descriptors_a, descriptors_b, k, masks=noArray(), compactResult=false)\n",
    "\n",
    "cv.drawMatchesKNN(...)\n",
    "\n",
    "cv.NORM_L2 # Euclidean Distance\n",
    "cv.NORM_HAMMING # Minimum nuber of substitutions to match two strings\n",
    "\n",
    "\n",
    "\n",
    "# FLANN\n",
    "\n",
    "# select params\n",
    "index_params = dict()\n",
    "\n",
    "matcher = cv.DescriptorMatcher_create(cv.DescriptorMatcher_FLANNBASED)\n",
    "\n",
    "# knn_matches = matcher."
   ]
  }
 ],
 "metadata": {
  "language_info": {
   "name": "python"
  }
 },
 "nbformat": 4,
 "nbformat_minor": 2
}
