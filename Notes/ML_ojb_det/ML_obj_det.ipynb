{
 "cells": [
  {
   "cell_type": "markdown",
   "metadata": {},
   "source": [
    "### Object Detection Using Machine Learning\n",
    "\n",
    "#### Generalization of Object Detection\n",
    "1. Find numer of objects\n",
    "2. Classify objects & estimate size\n",
    "\n",
    "#### One-Stage Detector\n",
    "#### Two-Stage Detector\n",
    "\n",
    "#### R-CNN\n",
    "1. input image\n",
    "2. extract region proposals\n",
    "3. comptuer CNN features\n",
    "4. classify regions\n",
    "\n",
    "-  For each region we feed it into a CNN then to an SVM\n",
    "   1. massive amount of time required to train\n",
    "   2. no real-time application\n",
    "\n",
    "#### Fast R-CNN, Faster R-CNN\n",
    "- passes in the whole image to CNN\n",
    "\n",
    "#### YOLO\n",
    "1. splits image into n x n grid \n",
    "2. take m bounding boxes.\n",
    "3. each bounding box -> class probability & offest value\n",
    "4. select bounding boxes with class probability > threshold value\n",
    "\n",
    "\n",
    "#### Single SHot Detector (SSD)\n",
    "\n"
   ]
  },
  {
   "cell_type": "code",
   "execution_count": 2,
   "metadata": {},
   "outputs": [],
   "source": [
    "import cv2 as cv\n",
    "import numpy as np\n",
    "\n"
   ]
  }
 ],
 "metadata": {
  "kernelspec": {
   "display_name": "Python 3",
   "language": "python",
   "name": "python3"
  },
  "language_info": {
   "codemirror_mode": {
    "name": "ipython",
    "version": 3
   },
   "file_extension": ".py",
   "mimetype": "text/x-python",
   "name": "python",
   "nbconvert_exporter": "python",
   "pygments_lexer": "ipython3",
   "version": "3.10.12"
  }
 },
 "nbformat": 4,
 "nbformat_minor": 2
}
