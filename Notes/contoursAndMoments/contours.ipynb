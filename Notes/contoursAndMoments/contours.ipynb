{
 "cells": [
  {
   "cell_type": "markdown",
   "metadata": {},
   "source": [
    "# Contours \n",
    "\n",
    "\n",
    "# Image momments\n",
    "### A weighted average of pixel intensities, chosen to have some attractive properties\n",
    "\n",
    "- Considers pixel intensity\n",
    "- location\n",
    "\n",
    "# Raw Moments\n",
    "- moment of a function are certain quantitative measures related to the shape of the function's graph\n",
    "\n",
    "- moments are a double integral for continuous functions.\n",
    "- for scalar images it is a double summation function where (x,y) are pixel intensity.\n",
    "- provides the calculation for the centroid of a triangle.\n",
    "\n",
    "## Invariant\n",
    "A property of a mathematical object which reamins unchanged after a translation or transformation\n",
    "\n",
    "# HU Moments\n",
    "- goal to perform shape matching (comparison)\n",
    "### first 6 Hu moments\n",
    "   - invariant for translation, scale, rotation, and reflection\n",
    "   - 7th changes value for image reflection"
   ]
  },
  {
   "cell_type": "code",
   "execution_count": null,
   "metadata": {},
   "outputs": [],
   "source": [
    "import cv2 as cv\n",
    "\n",
    "moments = cv.moments(arr, binImg)\n",
    "\n",
    "hu_moment = cv.HuMomments(moments)\n"
   ]
  },
  {
   "cell_type": "markdown",
   "metadata": {},
   "source": [
    "# Hough Transforms\n",
    "- Used to extract lines and cirlces from images\n",
    "- uses polar coordinates\n",
    "\n",
    "1. take point (x,y)\n",
    "2. graph all lines that could go through that point\n",
    "\n",
    "3. repeat 1-2 for all points\n",
    "\n",
    "4. point of intersection mean that points belong to the same line\n",
    "5. if the number of points on a line is above threshold, assume a line exists\n",
    "\n",
    "- computationally epensive.\n",
    "- preprocessing with edge detection method.\n",
    "- a version for circles as well.\n"
   ]
  },
  {
   "cell_type": "code",
   "execution_count": null,
   "metadata": {},
   "outputs": [],
   "source": [
    "import cv2 as cv\n",
    "\n",
    "lines = cv.HoughLines(image, rho, theta, threshold)\n",
    "# probablistic Hough\n",
    "lines = cv.HoughLinesP(image, rho, theta, threshold)\n",
    "\n"
   ]
  }
 ],
 "metadata": {
  "kernelspec": {
   "display_name": "Python 3",
   "language": "python",
   "name": "python3"
  },
  "language_info": {
   "name": "python",
   "version": "3.10.12"
  }
 },
 "nbformat": 4,
 "nbformat_minor": 2
}
