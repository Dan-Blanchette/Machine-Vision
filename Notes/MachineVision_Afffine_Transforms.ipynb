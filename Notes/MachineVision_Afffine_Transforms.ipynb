{
  "nbformat": 4,
  "nbformat_minor": 0,
  "metadata": {
    "colab": {
      "provenance": [],
      "authorship_tag": "ABX9TyOArfabCc1J43ktRQzjTVxg",
      "include_colab_link": true
    },
    "kernelspec": {
      "name": "python3",
      "display_name": "Python 3"
    },
    "language_info": {
      "name": "python"
    }
  },
  "cells": [
    {
      "cell_type": "markdown",
      "metadata": {
        "id": "view-in-github",
        "colab_type": "text"
      },
      "source": [
        "<a href=\"https://colab.research.google.com/github/Dan-Blanchette/Machine-Vision/blob/main/MachineVision_Afffine_Transforms.ipynb\" target=\"_parent\"><img src=\"https://colab.research.google.com/assets/colab-badge.svg\" alt=\"Open In Colab\"/></a>"
      ]
    },
    {
      "cell_type": "markdown",
      "source": [
        "# Affine Transformations\n",
        "\n",
        "### OpenCV: Affine Transformation\n",
        "\n",
        "1. Translations\n",
        "2. Rotations\n",
        "3. Shear\n",
        "4. Scaling\n",
        "\n",
        "### Matrix size\n",
        "\n",
        "2 x 2 Matrix A\n",
        "2 x 1 Matrix B\n",
        "\n",
        "M = [A|B] = a  a  b\n",
        "            a  a  b\n",
        "\n"
      ],
      "metadata": {
        "id": "htL85g9z1aiZ"
      }
    },
    {
      "cell_type": "code",
      "source": [
        "img = cv.warpAffine(src, M, dsize =( columns, rows), flags=INTER_LINEAR, borderMode = BORDER_CONSTANT, borderValue=Scalar())\n",
        "\n",
        "# Get 2x3 M fromm 2 sets of 3 points\n",
        "cv.getAffineTranform(src, dst)\n",
        "# Get 2x3 rotation matrix\n",
        "cv.getRotationMatrix2D(center, angle, scale)"
      ],
      "metadata": {
        "id": "R1LE1wCO2S26"
      },
      "execution_count": null,
      "outputs": []
    },
    {
      "cell_type": "markdown",
      "source": [
        "# Translation\n",
        "\n",
        "- moving the image around withing the frame\n",
        "\n",
        "- since we're moving in a straight line\n",
        "- we only need the B matrix\n",
        "- thus we only need  1 0 b\n",
        "-                    0 1 b\n",
        "\n",
        "# Rotation\n",
        "- uses A matrix only\n",
        "- for pure rotation B matrix is not needed\n",
        "\n"
      ],
      "metadata": {
        "id": "atrOcMs-27D2"
      }
    },
    {
      "cell_type": "code",
      "source": [
        "img = cv.imread('./sample_iamges/boat1.jpg')\n",
        "rows, columns, channels = img.shape\n",
        "\n",
        "# See slides for the rest of this coding example\n",
        "M = np.float32([[1,0,100], [0,1,50]])\n",
        "\n",
        "img = cv.warpAffine()\n",
        "\n",
        "# Rotating\n",
        "center = ((columns - 1)/2.0, (row-1)/2.0)\n",
        "angle= 90\n",
        "scale = 1\n",
        "M = cv.getRotationMatrix2D()\n",
        "\n",
        "# Shear\n",
        "\n",
        "# displace pixels proortial to distance fromm parallel line\n",
        "\n",
        "'''\n",
        "M = [A|B]  =\n",
        "'''\n",
        "img = cv.imread(\"image_path\")\n",
        "rows, columns,"
      ],
      "metadata": {
        "id": "FVEJFatE3PMr"
      },
      "execution_count": null,
      "outputs": []
    }
  ]
}