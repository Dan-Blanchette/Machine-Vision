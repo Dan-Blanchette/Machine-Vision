{
 "cells": [
  {
   "cell_type": "markdown",
   "metadata": {},
   "source": [
    "## Review\n",
    "## Problems with sequential data\n",
    "\n",
    "- length 1 timestep: NN's predict output at same times\n",
    "- < 20 timesteps: RNN's improve with \"state\", passed between timesteps\n",
    "- LSTMs improve memory with \"context\" vector, can fit complex functions\n",
    "\n",
    "### sequence\n",
    "In the context of attention\n",
    "### token\n",
    "an element of data from a sequence. Tokens may have a unique, abstract ID.\n",
    "\n",
    "### Example\n",
    " \"hello world\"\n",
    " tokens: 'hello' 'world' '!'\n",
    " token ID's: 7529, 2088, 9999\n",
    "\n",
    " - Seqeunce Lenght\n",
    "   - RNN limited to < 20 tokens.\n",
    "\n",
    "- The Bottleneck Problem\n",
    "   - latent space representation can't encode all input information.\n",
    "   - RNN's forget important information from previous timesteps.\n",
    "\n",
    "- Vanishing Gradients\n",
    "   - Gradients calculated for each layer.\n",
    "   - The farther from the output, the smaller the gradient."
   ]
  },
  {
   "cell_type": "code",
   "execution_count": null,
   "metadata": {},
   "outputs": [],
   "source": []
  },
  {
   "cell_type": "code",
   "execution_count": null,
   "metadata": {},
   "outputs": [],
   "source": []
  },
  {
   "cell_type": "markdown",
   "metadata": {},
   "source": []
  }
 ],
 "metadata": {
  "kernelspec": {
   "display_name": "mvenv",
   "language": "python",
   "name": "python3"
  },
  "language_info": {
   "name": "python",
   "version": "3.10.12"
  }
 },
 "nbformat": 4,
 "nbformat_minor": 2
}
