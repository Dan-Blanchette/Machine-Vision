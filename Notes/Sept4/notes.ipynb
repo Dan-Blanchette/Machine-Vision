{
 "cells": [
  {
   "cell_type": "markdown",
   "metadata": {},
   "source": [
    "# Machine Vision: Blurring and Smoothing Images\n",
    "\n",
    "## Salt and Pepper Noise\n",
    " - black or white specs in a monochromatic image\n",
    " - Gaussian Noise (occurs in opposite colors in both black and white colors)\n",
    "\n",
    " ## Smoothing\n",
    " - Kernel that uses an average to smooth image by multiplying the image by 1/n^2\n",
    "   - n=5 where (n is the dimensions of the matrix (5x5 for this example))  multiply by 1/5^2\n"
   ]
  },
  {
   "cell_type": "code",
   "execution_count": 2,
   "metadata": {},
   "outputs": [],
   "source": [
    "import cv2 as cv\n",
    "import numpy as np\n",
    "\n",
    "img = cv.imread('example_img/test.jpg')\n",
    "\n",
    "# smoothing  average\n",
    "blurred = cv.blur(img, (15,15), 0)\n",
    "\n",
    "# gaussian blur\n",
    "gauss_blur = cv.GaussianBlur(img, (3.3), 0)\n",
    "\n",
    "#median blur\n",
    "med_blur = cv.medianBlur(img, 15)\n",
    "\n",
    "# bilaterial filtering\n",
    "blurred = cv.bilateralFilter(img, 11, 61, 39)\n",
    "\n"
   ]
  }
 ],
 "metadata": {
  "kernelspec": {
   "display_name": "Python 3",
   "language": "python",
   "name": "python3"
  },
  "language_info": {
   "codemirror_mode": {
    "name": "ipython",
    "version": 3
   },
   "file_extension": ".py",
   "mimetype": "text/x-python",
   "name": "python",
   "nbconvert_exporter": "python",
   "pygments_lexer": "ipython3",
   "version": "3.10.12"
  },
  "polyglot_notebook": {
   "kernelInfo": {
    "defaultKernelName": "csharp",
    "items": [
     {
      "aliases": [],
      "name": "csharp"
     }
    ]
   }
  }
 },
 "nbformat": 4,
 "nbformat_minor": 2
}
