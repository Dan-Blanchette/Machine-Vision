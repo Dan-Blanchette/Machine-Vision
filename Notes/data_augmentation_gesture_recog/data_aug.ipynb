{
 "cells": [
  {
   "cell_type": "markdown",
   "metadata": {},
   "source": [
    "## Data Augmentation\n",
    "\n",
    "### Flip, Mirror, Rotating Images\n",
    "- This will create a new data set\n",
    "\n",
    "### Cropping\n",
    "- Selecting a subset of pixels\n",
    "\n",
    "### Zooming\n",
    "- Focusing on a specific area of the original image but retaining true size and pixel density\n",
    "\n"
   ]
  },
  {
   "cell_type": "markdown",
   "metadata": {},
   "source": [
    "## Gesture Recognition\n",
    "\n",
    "#### Used In\n",
    "\n",
    "1. Automotive\n",
    "2. VR/AR\n",
    "3. Consumer Electronics\n",
    "4. Contactless Electrionics\n",
    "5. Sign Language\n",
    "6. Hygiene/Contactless Interaction\n",
    "\n",
    "#### Gesture Recognition Flow Process\n",
    "1. Detection - device detects hand/body movements, segmentation\n",
    "2. Tracking  - device monitors movements in frame\n",
    "3. Recognition - match movements to know patterns -> action\n",
    "\n",
    "#### Google MediaPipe (application development covered in this lecture)\n",
    "1. Framework for multimodal ML pipelines\n",
    "2. Real-time performance\n",
    "3. Even on mobile devices\n",
    "\n",
    "#### Information\n",
    "- Depth information is important\n",
    "- Goal is to segement body into:\n",
    "   - Arm/body\n",
    "   - Palm\n",
    "   - Hand Landmarks\n",
    "\n",
    "#### Paper: CNN and RNN Depth and skeleton based Dynamic Hand Gesture Recognition\n",
    "- Motivation - smart homes, assisted living, healthcare\n",
    "- CNN for images, Recurrent Neural Network"
   ]
  },
  {
   "cell_type": "code",
   "execution_count": 9,
   "metadata": {},
   "outputs": [],
   "source": [
    "import cv2 as cv\n",
    "import numpy as np\n"
   ]
  }
 ],
 "metadata": {
  "kernelspec": {
   "display_name": "Python 3",
   "language": "python",
   "name": "python3"
  },
  "language_info": {
   "codemirror_mode": {
    "name": "ipython",
    "version": 3
   },
   "file_extension": ".py",
   "mimetype": "text/x-python",
   "name": "python",
   "nbconvert_exporter": "python",
   "pygments_lexer": "ipython3",
   "version": "3.10.12"
  }
 },
 "nbformat": 4,
 "nbformat_minor": 2
}
