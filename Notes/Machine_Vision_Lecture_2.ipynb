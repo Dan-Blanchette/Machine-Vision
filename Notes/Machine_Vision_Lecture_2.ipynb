{
  "nbformat": 4,
  "nbformat_minor": 0,
  "metadata": {
    "colab": {
      "provenance": [],
      "authorship_tag": "ABX9TyOTSvN5jQuSp6E+iBZD7CSz",
      "include_colab_link": true
    },
    "kernelspec": {
      "name": "python3",
      "display_name": "Python 3"
    },
    "language_info": {
      "name": "python"
    }
  },
  "cells": [
    {
      "cell_type": "markdown",
      "metadata": {
        "id": "view-in-github",
        "colab_type": "text"
      },
      "source": [
        "<a href=\"https://colab.research.google.com/github/Dan-Blanchette/Machine-Vision/blob/main/Notes/Machine_Vision_Lecture_2.ipynb\" target=\"_parent\"><img src=\"https://colab.research.google.com/assets/colab-badge.svg\" alt=\"Open In Colab\"/></a>"
      ]
    },
    {
      "cell_type": "markdown",
      "source": [
        "# Image Quality\n",
        "\n",
        "## 1. Focus\n",
        "\n",
        "## 2. Exposure\n",
        "\n",
        "## 3. Resolution\n",
        "\n",
        "# Camera Body\n",
        "  - Sensor- type, sensitivity,etc\n",
        "  - Shutter(Frame rate)\n",
        "  - Interface (USB, Ethernet, Memory Card)\n",
        "\n",
        "# Lenses\n",
        "  - Aperature (size of the hole for exposure)\n",
        "  - Focal Length(center focal point where the light converges)\n",
        "  - Focal Distance(minimum - overall distance to an object and zoom)\n",
        "\n",
        "# Architecture\n",
        "\n",
        "# Resolution\n",
        "\n",
        "# Sensitivity\n",
        "  1. Set as ISO values (low ISO value requires more light. Less prone to  \n",
        "     noise).\n",
        "\n",
        "  2. Higher sensitivity correlates to prevalence of \"noise\"\n",
        "\n",
        "\n",
        "Exposure Time a.k.a Shutter Speed\n",
        "\n",
        " 1. The time that the shutter is \"open\" allowing the sensor to measure  \n",
        "    the light striking it. Values are expressed in seconds.\n",
        "\n",
        "  - Shutter speed values correlates to F-stops\n",
        "  - Video is quantized in frames per second (fps: 30fps [crucial #])\n",
        "\n",
        "# Focus\n",
        "  An image is connsidered \"in focus\" when the desired subject(s) are rendered with the maximum possible detail and clarity.\n",
        "\n",
        "f-number = focl length (mm)\n",
        "\n",
        "\n",
        "\n",
        "==========================================================================\n",
        "\n",
        "\n",
        "# The Math Behind Imaging"
      ],
      "metadata": {
        "id": "004e42fV1UBY"
      }
    }
  ]
}