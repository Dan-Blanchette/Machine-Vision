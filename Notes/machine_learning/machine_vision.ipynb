{
 "cells": [
  {
   "cell_type": "markdown",
   "metadata": {},
   "source": [
    "## Intro to Machine Learning\n",
    "\n",
    "\n",
    "### Supervised Learning\n",
    "   1. Machine -> Student\n",
    "   2. looks at input data, makes predictions\n",
    "   3. Supervisor isn't very helpful\n",
    "   4. Tells student when wrong/right, hopefully by how much\n",
    "   - Practically, requires:\n",
    "      1. Lots of data\n",
    "      2. Need input data & answers(ground truth)\n",
    "         \n",
    "### Unsupervised Learning\n",
    "   1. Machine has examples, no answers\n",
    "   2. In ohter words, machine focuses on finding patterns in data, lots of data\n",
    "   3. Machine is trying to find ways to group data\n",
    "      - Can learn reduced key features of data\n",
    "      - For example, pictures faces -> eyes, nose, mouth, etc.\n",
    "   4. Can use to compress data, generate images, etc.\n",
    "\n",
    "### Reinforcement Learning\n",
    "\n",
    "   1. No predictions\n",
    "   2. Agent in environment with states & possible actions\n",
    "   3. Feedback is whether actions/solutions worked well or not\n",
    "      - Observer evaluates actions\n",
    "      - Provides reward for choosing action x in state y\n",
    "      - Agent's goal is to maximize reward\n",
    "   4. Analagous Human Examples:\n",
    "      - drawing\n",
    "      - social skills\n",
    "      - etc.\n",
    "\n",
    "   \n",
    "\n",
    "\n"
   ]
  },
  {
   "cell_type": "code",
   "execution_count": 6,
   "metadata": {},
   "outputs": [
    {
     "name": "stdout",
     "output_type": "stream",
     "text": [
      "hello world\n"
     ]
    }
   ],
   "source": [
    "import cv2 as cv\n",
    "import numpy as np\n",
    "\n",
    "message = \"hello world\"\n",
    "\n",
    "numbers = [1,2,3,4,5]\n",
    "\n",
    "print(message)"
   ]
  }
 ],
 "metadata": {
  "kernelspec": {
   "display_name": "mvenv",
   "language": "python",
   "name": "python3"
  },
  "language_info": {
   "codemirror_mode": {
    "name": "ipython",
    "version": 3
   },
   "file_extension": ".py",
   "mimetype": "text/x-python",
   "name": "python",
   "nbconvert_exporter": "python",
   "pygments_lexer": "ipython3",
   "version": "3.10.12"
  }
 },
 "nbformat": 4,
 "nbformat_minor": 2
}
