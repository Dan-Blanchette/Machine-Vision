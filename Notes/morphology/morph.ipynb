{
 "cells": [
  {
   "cell_type": "markdown",
   "metadata": {},
   "source": [
    "# Morphology Types\n",
    "\n",
    "# Erosion\n",
    " - decreases area of white objects\n",
    " - helpful for removing white noise\n",
    " - helpful for detaching two connected objects\n",
    "\n",
    "# Dialtion\n",
    " - Set a pixel to 1 if any pixel under the kernel is 1\n",
    " - Opposite of erosion\n",
    " - Increased foreground (white) objects\n",
    " - Join disconnected obects\n",
    "\n",
    "# When paired it is called opening\n",
    " - Erosion -> Dialation\n",
    " - helps maintain size\n",
    " - removes noise (gaps in background)\n",
    "\n",
    "# Closing\n",
    " - Inverse operation Dialation -> Erosion.\n",
    " - Closes gaps in foreground.\n",
    " -  Helps maintain size of original image.\n",
    "\n",
    "# Morphological Gradient\n",
    " 1. Dialation.\n",
    " 2. Erosion.\n",
    " 3. Output is difference between dialtion and erosion.\n",
    " - Leaves outlines of objects.\n",
    "\n",
    "# Top Hat\n",
    "  1. Opening.\n",
    "  2. Output is difference between opening of image and source image.\n",
    "  - Enhance bright object in dark background.\n",
    "\n",
    "# Black Hat\n",
    "  1. Uses closing\n",
    "  - Enhances dark objects on a bright background.\n",
    "\n",
    "# Top hat and black hat uses\n",
    "  - good for small details.\n",
    "  - feature extraction.\n",
    "  - medical imaging.\n",
    "\n",
    "# OpenCV calls\n",
    "cv.erode(src, kernel, ...)\n",
    "cv.dialte(src, kernel, ...)\n",
    "-  The larger we make the kernel, the more aggressive the appication\n",
    "\n",
    "# Morphology Function Call\n",
    "cv.morphologyEx(src,\n",
    "                 op, # operation type enum value, cv.MorphTypes\n",
    "             kernel,\n",
    "               ...)"
   ]
  },
  {
   "cell_type": "code",
   "execution_count": 4,
   "metadata": {},
   "outputs": [
    {
     "name": "stderr",
     "output_type": "stream",
     "text": [
      "[ WARN:0@720.005] global cap_v4l.cpp:982 open VIDEOIO(V4L2:/dev/video0): can't open camera by index\n",
      "[ERROR:0@720.006] global obsensor_uvc_stream_channel.cpp:156 getStreamChannelGroup Camera index out of range\n"
     ]
    },
    {
     "ename": "error",
     "evalue": "OpenCV(4.7.0) /io/opencv/modules/imgproc/src/color.cpp:182: error: (-215:Assertion failed) !_src.empty() in function 'cvtColor'\n",
     "output_type": "error",
     "traceback": [
      "\u001b[0;31m---------------------------------------------------------------------------\u001b[0m",
      "\u001b[0;31merror\u001b[0m                                     Traceback (most recent call last)",
      "Cell \u001b[0;32mIn[4], line 23\u001b[0m\n\u001b[1;32m     21\u001b[0m \u001b[38;5;28;01mwhile\u001b[39;00m key \u001b[38;5;241m!=\u001b[39m \u001b[38;5;28mord\u001b[39m(\u001b[38;5;124m'\u001b[39m\u001b[38;5;124ms\u001b[39m\u001b[38;5;124m'\u001b[39m):\n\u001b[1;32m     22\u001b[0m    still \u001b[38;5;241m=\u001b[39m webcam\u001b[38;5;241m.\u001b[39mread()\n\u001b[0;32m---> 23\u001b[0m    img_gray \u001b[38;5;241m=\u001b[39m \u001b[43mcv\u001b[49m\u001b[38;5;241;43m.\u001b[39;49m\u001b[43mcvtColor\u001b[49m\u001b[43m(\u001b[49m\u001b[43mstill\u001b[49m\u001b[43m[\u001b[49m\u001b[38;5;241;43m1\u001b[39;49m\u001b[43m]\u001b[49m\u001b[43m,\u001b[49m\u001b[43m \u001b[49m\u001b[43mcv\u001b[49m\u001b[38;5;241;43m.\u001b[39;49m\u001b[43mCOLOR_BGR2GRAY\u001b[49m\u001b[43m)\u001b[49m\n\u001b[1;32m     25\u001b[0m    \u001b[38;5;66;03m# ops\u001b[39;00m\n\u001b[1;32m     26\u001b[0m    thresh \u001b[38;5;241m=\u001b[39m \u001b[38;5;28mint\u001b[39m(cv\u001b[38;5;241m.\u001b[39mgetTrackbarPos(\u001b[38;5;124m'\u001b[39m\u001b[38;5;124mthreshold\u001b[39m\u001b[38;5;124m'\u001b[39m, \u001b[38;5;124m'\u001b[39m\u001b[38;5;124mcontrols\u001b[39m\u001b[38;5;124m'\u001b[39m))\n",
      "\u001b[0;31merror\u001b[0m: OpenCV(4.7.0) /io/opencv/modules/imgproc/src/color.cpp:182: error: (-215:Assertion failed) !_src.empty() in function 'cvtColor'\n"
     ]
    }
   ],
   "source": [
    "# Morphology Code example\n",
    "\n",
    "import cv2 as cv\n",
    "import numpy as np\n",
    "\n",
    "# img = cv.imread('../../CS455-555_Machine_Vision_Student/examples/sample_images/octo1.jpg')\n",
    "\n",
    "webcam = cv.VideoCapture(0)\n",
    "\n",
    "\n",
    "\n",
    "def morph_ops():\n",
    "\n",
    "   cv.namedWindow('controls')\n",
    "   cv.createTrackbar('threshold', 'controls', 0, 255, lambda *args: None)\n",
    "\n",
    "   cv.setTrackbarPos('threshold', 'controls', 127)\n",
    "\n",
    "key = ord('r')\n",
    "\n",
    "while key != ord('s'):\n",
    "   still = webcam.read()\n",
    "   img_gray = cv.cvtColor(still[1], cv.COLOR_BGR2GRAY)\n",
    "\n",
    "   # ops\n",
    "   thresh = int(cv.getTrackbarPos('threshold', 'controls'))\n",
    "   ret, img = cv.threshold(img_gray, thresh, 255, cv.THRESH_BINARY)\n",
    "\n",
    "   cv.imshow('output img', img)\n",
    "   key = cv.waitKey(5)\n",
    "\n",
    "morph_ops()"
   ]
  }
 ],
 "metadata": {
  "kernelspec": {
   "display_name": "Python 3",
   "language": "python",
   "name": "python3"
  },
  "language_info": {
   "codemirror_mode": {
    "name": "ipython",
    "version": 3
   },
   "file_extension": ".py",
   "mimetype": "text/x-python",
   "name": "python",
   "nbconvert_exporter": "python",
   "pygments_lexer": "ipython3",
   "version": "3.10.12"
  }
 },
 "nbformat": 4,
 "nbformat_minor": 2
}
