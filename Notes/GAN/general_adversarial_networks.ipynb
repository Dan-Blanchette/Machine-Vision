{
 "cells": [
  {
   "cell_type": "markdown",
   "metadata": {},
   "source": [
    "## Generative Adversarial Networks\n",
    "\n",
    "### Adversarial Learning\n",
    "\n",
    "- Generating Data\n",
    "   -  generate new samples to train\n",
    "   - any \"creative\" problem\n",
    "\n",
    "- Extracting Features\n",
    "   - Learning the differnce between real/fake\n",
    "   - Learning domain invariant features\n",
    "\n",
    "- How do we tell if the outputs(features/generative output) are good?\n",
    "\n",
    "- Data Generation\n",
    "   - Quantity of dta is always a problem\n",
    "   - Can we \"fabricate\" data well enough to train on it?\n",
    "   - Media creation\n",
    "   - Video quality enhancements\n",
    "   - Image quality enhancements\n",
    "\n",
    "- Classifying data from very different data distributions\n",
    "\n",
    "- Forger and Art Dealer relationship\n",
    "   - One network is a forager\n",
    "      - This network tries to match real data as best as it can\n",
    "   - The other is an Art Dealer selling paintings\n",
    "      - acts as the descriminator and determines whether or no the data being foraged is fake or real enough to be accepted.\n",
    "\n",
    "- Think of them as two competing networks a Generator and Discrminator\n",
    "   - both train on the same data set\n",
    "\n",
    "- Domain Adaptation\n",
    "   A process for training a model for a dataset containing shifts in input distribution.\n",
    "          \n",
    "### Non-Generative Adversarial Learning\n",
    "\n",
    "### Generative Adversarial Learning"
   ]
  },
  {
   "cell_type": "code",
   "execution_count": 10,
   "metadata": {},
   "outputs": [
    {
     "name": "stdout",
     "output_type": "stream",
     "text": [
      "5\n"
     ]
    }
   ],
   "source": [
    "# numbers = [1,2,2,3,4,5,5,5,6,7,7,8,8,8,8,8,9]\n",
    "\n",
    "\n",
    "# tot_sum = sum(numbers)\n",
    "\n",
    "# average = tot_sum / len(numbers)\n",
    "\n",
    "# print(int(average))"
   ]
  }
 ],
 "metadata": {
  "kernelspec": {
   "display_name": "mvenv",
   "language": "python",
   "name": "python3"
  },
  "language_info": {
   "codemirror_mode": {
    "name": "ipython",
    "version": 3
   },
   "file_extension": ".py",
   "mimetype": "text/x-python",
   "name": "python",
   "nbconvert_exporter": "python",
   "pygments_lexer": "ipython3",
   "version": "3.10.12"
  }
 },
 "nbformat": 4,
 "nbformat_minor": 2
}
