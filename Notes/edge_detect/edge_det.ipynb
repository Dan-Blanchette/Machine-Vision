{
 "cells": [
  {
   "cell_type": "markdown",
   "metadata": {},
   "source": [
    "# Edge Detection\n",
    "\n",
    "## Sobel\n",
    "   - remember Sobel kernel\n",
    "   - simple gradients\n",
    "\n",
    "   ## Review\n",
    "      - Partial Gradients\n",
    "      - Graidents\n",
    "\n",
    "   # Steps   \n",
    "   1. Grayscale\n",
    "     - limits to one channel\n",
    "   2. Gaussian Blur\n",
    "     - reduce nooise induced gradients\n",
    "     - focus on shapes\n",
    "   \n",
    "\n",
    "## Canny\n",
    "   - algorithm\n",
    "   - preprocessing\n",
    "   # Steps\n",
    "   1. Noise Reduction\n",
    "   2. Finding intensity Gradient of Image\n",
    "   3. Non-maximum intensity value\n",
    "   4. (see slides)\n",
    "\n",
    "   # Types of edges (pixel values)\n",
    "    - Step Edge \n",
    "    - Ramp Edge\n",
    "    - Ridge Edge\n",
    "\n",
    "   # Manual Hysteresis Thresholding Values\n",
    "\n",
    "   # cons \n",
    "    - can be noisy\n",
    "    - disconnected lines can occur\n",
    "   "
   ]
  },
  {
   "cell_type": "code",
   "execution_count": null,
   "metadata": {
    "vscode": {
     "languageId": "plaintext"
    }
   },
   "outputs": [],
   "source": [
    "# Edge detection types\n",
    "\n",
    "# SOBEL\n",
    "\n",
    "img = cv.imread()\n",
    "\n",
    "img = cv.cvtColor()\n",
    "\n",
    "img = cv.Gaussian()\n",
    "\n",
    "img = cv.Sobel()\n",
    "\n",
    "# Canny\n",
    "# Types of Edges\n",
    "# Step\n",
    "   #      _____\n",
    "   # ____|\n",
    "\n",
    "# Ramp \n",
    "     #            ________\n",
    "     #           /\n",
    "     # _________/\n",
    "\n",
    "# Ridge\n",
    "     #            ________\n",
    "     #           /        \\\n",
    "     # _________/          \\________\n",
    "\n",
    "# Manual Hysteresis Thresholding Values\n",
    "# tuning param, change basd on dataset\n",
    "sigma = 0.33\n",
    "# median value for image\n",
    "v = np.median(sigma)"
   ]
  }
 ],
 "metadata": {
  "language_info": {
   "name": "python"
  }
 },
 "nbformat": 4,
 "nbformat_minor": 2
}
