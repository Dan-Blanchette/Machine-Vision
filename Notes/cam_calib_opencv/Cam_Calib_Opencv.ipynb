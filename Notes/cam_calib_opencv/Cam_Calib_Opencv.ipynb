{
 "cells": [
  {
   "cell_type": "markdown",
   "metadata": {},
   "source": [
    "# Lecture #4 Opencv Camera Calibration Notes\n",
    "\n",
    "### Review\n",
    "\n",
    "x = PX\n",
    "\n",
    "translates between 3D homogenous to 4D \n",
    "\n",
    "## Camera Calibration in OpenCV\n",
    "\n",
    "1. Chessboard Corners (This is a 9 x 6 chessboard pattern)\n",
    "2. Circles\n",
    "------------------------------------------------------------\n",
    "------------------------------------------------------------\n",
    "\n",
    "1. We know the size of the pattern and numbers of elements in the pattern.\n",
    "\n",
    "2. Approx. 10 images are needed for best results\n",
    "\n",
    "3. 8.5\" x 11\" Cardboard! or any rigid & flat surface\n",
    "\n",
    "- Use camera to capture multiple images of the calibration pattern.\n",
    "\n",
    "- Use OpenCV to get the image points (2D) and object points (3D).\n",
    "\n",
    "# code: calibration function\n",
    "cv.findChessboardCorners(image, (x_size, y_size), None)\n",
    "cv.calibrateCamera(obj_pts, img_pts, ....)\n",
    "\n",
    "1. An object point has a fixed location and size based on our calibration pattern.\n",
    "\n",
    "\n",
    "\n",
    "# Assignment #3\n",
    "\n",
    "Use an OpenCV calibration pattern to calibrate your camera\n",
    "\n",
    "1. Print out and ount a calibration pattern\n",
    "2. Obtain 10 images of the pattern usinng your camera\n",
    "3. Save your parameters to JSON file\n",
    "4. See slides\n",
    "5. See slides\n",
    "\n",
    "extra credit\n",
    "build Camera Obscura/Pinhole Camera 50-75 pts (Dec 1)\n"
   ]
  },
  {
   "cell_type": "code",
   "execution_count": null,
   "metadata": {
    "vscode": {
     "languageId": "plaintext"
    }
   },
   "outputs": [],
   "source": [
    "# Code Examples\n",
    "\n",
    "import cv2 as cv\n",
    "\n",
    "# chessboard camera calibration\n",
    "cv.findChessboardCorners(image, (x_size, y_size), None)\n",
    "\n",
    "# calibration calculation\n",
    "cv.calibrateCamera(obj_pts, img_pts)\n"
   ]
  }
 ],
 "metadata": {
  "language_info": {
   "name": "python"
  }
 },
 "nbformat": 4,
 "nbformat_minor": 2
}
